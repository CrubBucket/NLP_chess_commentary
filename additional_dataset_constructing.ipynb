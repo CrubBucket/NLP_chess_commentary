{
 "cells": [
  {
   "cell_type": "markdown",
   "id": "a1a2cef0",
   "metadata": {},
   "source": [
    "#### Installing required dependencies"
   ]
  },
  {
   "cell_type": "code",
   "execution_count": 1,
   "id": "e178926f",
   "metadata": {},
   "outputs": [
    {
     "name": "stdout",
     "output_type": "stream",
     "text": [
      "Requirement already satisfied: chess in c:\\users\\admin\\appdata\\local\\programs\\python\\python39\\lib\\site-packages (1.10.0)\n"
     ]
    }
   ],
   "source": [
    "!pip install chess"
   ]
  },
  {
   "cell_type": "code",
   "execution_count": 2,
   "id": "e0b7e147",
   "metadata": {},
   "outputs": [],
   "source": [
    "import requests\n",
    "import json\n",
    "\n",
    "import bs4\n",
    "import chess\n",
    "import chess.pgn\n",
    "import chess.engine\n",
    "import pandas as pd\n",
    "from tqdm.notebook import trange, tqdm"
   ]
  },
  {
   "cell_type": "markdown",
   "id": "fd9363dc",
   "metadata": {},
   "source": [
    "#### Main body of parsing process"
   ]
  },
  {
   "cell_type": "code",
   "execution_count": 3,
   "id": "cc26186e",
   "metadata": {},
   "outputs": [],
   "source": [
    "engine = chess.engine.SimpleEngine.popen_uci('stockfish/stockfish-windows-x86-64-sse41-popcnt.exe')"
   ]
  },
  {
   "cell_type": "code",
   "execution_count": 4,
   "id": "d362eded",
   "metadata": {},
   "outputs": [],
   "source": [
    "resp = requests.get('https://lichess.org/study/Mj0wdEVK/pzkfIdqR')\n",
    "with open('page.html', 'w', encoding='UTF-8') as f:\n",
    "    f.write(resp.text)"
   ]
  },
  {
   "cell_type": "code",
   "execution_count": 5,
   "id": "7f6b1830",
   "metadata": {},
   "outputs": [],
   "source": [
    "soup = bs4.BeautifulSoup(resp.text, 'lxml')"
   ]
  },
  {
   "cell_type": "code",
   "execution_count": 6,
   "id": "dc438d2d",
   "metadata": {},
   "outputs": [],
   "source": [
    "move_comments = soup.find('script', id='page-init-data')"
   ]
  },
  {
   "cell_type": "code",
   "execution_count": 7,
   "id": "fb5d9db4",
   "metadata": {},
   "outputs": [],
   "source": [
    "study = json.loads(move_comments.text)"
   ]
  },
  {
   "cell_type": "code",
   "execution_count": 8,
   "id": "a493f0b5",
   "metadata": {},
   "outputs": [],
   "source": [
    "chapters = [c['id'] for c in study['study']['chapters']]"
   ]
  },
  {
   "cell_type": "code",
   "execution_count": null,
   "id": "3dd6b491",
   "metadata": {},
   "outputs": [],
   "source": [
    "data = {'uci': [], 'eval': [], 'fen': [], 'comment': []}\n",
    "\n",
    "for chapter_id in tqdm(chapters):\n",
    "    resp = requests.get(f'https://lichess.org/study/Mj0wdEVK/{chapter_id}')\n",
    "    soup = bs4.BeautifulSoup(resp.text, 'lxml')\n",
    "    move_comments = soup.find('script', id='page-init-data')\n",
    "    study = json.loads(move_comments.text)\n",
    "    for ply in tqdm(study['data']['treeParts']):\n",
    "        data['fen'].append(ply['fen'])\n",
    "        data['uci'].append(ply.get('uci', ''))\n",
    "        if not ply.get('comments'):\n",
    "            data['comment'].append('')\n",
    "        else:\n",
    "            comment = '\\n'.join(map(lambda x: x['text'], ply['comments']))\n",
    "            data['comment'].append(comment)\n",
    "        board = chess.Board(ply['fen'])\n",
    "        info = engine.analyse(board, chess.engine.Limit(depth=20))\n",
    "        eval_ = info['score'].white()\n",
    "        data['eval'].append(eval_)"
   ]
  },
  {
   "cell_type": "code",
   "execution_count": null,
   "id": "425736b2",
   "metadata": {},
   "outputs": [],
   "source": [
    "df = pd.DataFrame(data)\n",
    "df"
   ]
  },
  {
   "cell_type": "code",
   "execution_count": 23,
   "id": "8eff986d",
   "metadata": {},
   "outputs": [],
   "source": [
    "df['evaluation'] = df['eval'].apply(lambda x: str(x))\n",
    "df.drop(columns=['eval'], inplace=True)\n",
    "df.rename(columns={'uci': 'move'}, inplace=True)\n",
    "df = df[df.move != '']\n",
    "df.reset_index(inplace=True)\n",
    "df.to_parquet('chess_comments.parquet')"
   ]
  }
 ],
 "metadata": {
  "kernelspec": {
   "display_name": "Python 3 (ipykernel)",
   "language": "python",
   "name": "python3"
  },
  "language_info": {
   "codemirror_mode": {
    "name": "ipython",
    "version": 3
   },
   "file_extension": ".py",
   "mimetype": "text/x-python",
   "name": "python",
   "nbconvert_exporter": "python",
   "pygments_lexer": "ipython3",
   "version": "3.10.12"
  }
 },
 "nbformat": 4,
 "nbformat_minor": 5
}
